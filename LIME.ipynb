{
 "cells": [
  {
   "cell_type": "code",
   "execution_count": 1,
   "metadata": {},
   "outputs": [
    {
     "name": "stderr",
     "output_type": "stream",
     "text": [
      "/home/ltan/anaconda3/envs/conceptlime/lib/python3.8/site-packages/tqdm/auto.py:21: TqdmWarning: IProgress not found. Please update jupyter and ipywidgets. See https://ipywidgets.readthedocs.io/en/stable/user_install.html\n",
      "  from .autonotebook import tqdm as notebook_tqdm\n"
     ]
    }
   ],
   "source": [
    "import torch\n",
    "from Args import Args\n",
    "from Utils.ModelResNet50Places365 import ResNet50_Places365\n",
    "from Utils.DataSetADE20K import ADE20KDataset\n",
    "import numpy as np\n",
    "from lime import lime_image"
   ]
  },
  {
   "cell_type": "code",
   "execution_count": 2,
   "metadata": {},
   "outputs": [],
   "source": [
    "args = Args()\n",
    "np.random.seed(args.SEED)"
   ]
  },
  {
   "cell_type": "code",
   "execution_count": 3,
   "metadata": {},
   "outputs": [],
   "source": [
    "# Load ADE20K dataset\n",
    "dataset = ADE20KDataset(args.get_path(\"ADE\"))"
   ]
  },
  {
   "cell_type": "code",
   "execution_count": 4,
   "metadata": {},
   "outputs": [],
   "source": [
    "# Load model to be explained\n",
    "# device = torch.device(\"cpu\")\n",
    "model = ResNet50_Places365(args.DEVICE)"
   ]
  },
  {
   "cell_type": "code",
   "execution_count": 5,
   "metadata": {},
   "outputs": [],
   "source": [
    "# file_id = \"00017768\"\n",
    "# sample_id = np.argwhere(dataset.images == f\"DataSet/ADEChallengeData2016/images/training/ADE_train_{file_id}.jpg\")[0][0]"
   ]
  },
  {
   "cell_type": "code",
   "execution_count": 6,
   "metadata": {},
   "outputs": [
    {
     "name": "stderr",
     "output_type": "stream",
     "text": [
      "100%|██████████| 1000/1000 [00:36<00:00, 27.15it/s]\n"
     ]
    }
   ],
   "source": [
    "# explain\n",
    "sample_id = 0\n",
    "explained_image = np.array(dataset[sample_id])\n",
    "explainer = lime_image.LimeImageExplainer()\n",
    "explanation = explainer.explain_instance(explained_image, model.predict_prob, top_labels=1, hide_color=0, num_samples=args.SURROGATE_TRAINING_SIZE)"
   ]
  },
  {
   "cell_type": "code",
   "execution_count": 13,
   "metadata": {},
   "outputs": [],
   "source": [
    "# # visualization\n",
    "# import matplotlib.pyplot as plt\n",
    "# import numpy as np\n",
    "# import cv2\n",
    "\n",
    "# model_pred = model.predict_prob(explained_image[np.newaxis, ...]).reshape(-1)\n",
    "# top_cls = np.argmax(model_pred)\n",
    "\n",
    "# exp_list = [tpl[1] for tpl in sorted(explanation.local_exp[top_cls], key=lambda t: t[0])]\n",
    "\n",
    "# cmap = plt.get_cmap('bwr')\n",
    "\n",
    "# exp_min = np.min(exp_list)\n",
    "# exp_max = np.max(exp_list)\n",
    "# exp_norm = (exp_list - exp_min) / (exp_max - exp_min)\n",
    "\n",
    "# colors = [cmap(x) for x in exp_norm]\n",
    "\n",
    "# kernel = cv2.getStructuringElement(cv2.MORPH_ELLIPSE, (5, 5))\n",
    "\n",
    "# plt.figure()\n",
    "# # plt.rcParams[\"font.family\"] = \"Times New Roman\"\n",
    "# plt.rcParams[\"figure.dpi\"] = 1200\n",
    "\n",
    "# img_copy = np.copy(explained_image) / 255\n",
    "# # plt.imshow(img_copy)\n",
    "# alpha = 0.3\n",
    "# for seg_id in range(0, np.max(explanation.segments)):\n",
    "#     mask = explanation.segments == seg_id\n",
    "#     seg_color = np.array(colors[seg_id][:3])\n",
    "\n",
    "#     image_seg = np.zeros_like(img_copy)\n",
    "#     image_seg[mask] = img_copy[mask]\n",
    "#     image_blended = (1 - alpha) * image_seg + alpha * seg_color\n",
    "#     image_blended = np.clip(image_blended, 0, 1)\n",
    "#     img_copy[mask] = image_blended[mask]\n",
    "\n",
    "# plt.imshow(img_copy)\n",
    "# plt.axis(\"off\")\n",
    "# plt.axis(\"tight\")\n",
    "# plt.axis(\"image\")\n",
    "# # plt.show()\n",
    "# plt.savefig(f\"{args.DIR_RESULT}/Explanation/lime_{file_id}.pdf\", bbox_inches = 'tight',pad_inches = 0)"
   ]
  }
 ],
 "metadata": {
  "kernelspec": {
   "display_name": "Python 3",
   "language": "python",
   "name": "python3"
  },
  "language_info": {
   "codemirror_mode": {
    "name": "ipython",
    "version": 3
   },
   "file_extension": ".py",
   "mimetype": "text/x-python",
   "name": "python",
   "nbconvert_exporter": "python",
   "pygments_lexer": "ipython3",
   "version": "3.8.18"
  },
  "orig_nbformat": 4
 },
 "nbformat": 4,
 "nbformat_minor": 2
}
