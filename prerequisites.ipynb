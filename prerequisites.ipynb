{
 "cells": [
  {
   "cell_type": "code",
   "execution_count": 1,
   "metadata": {},
   "outputs": [],
   "source": [
    "from Utils.utils import download_file, ensure_path\n",
    "import os\n",
    "from Args import Args"
   ]
  },
  {
   "attachments": {},
   "cell_type": "markdown",
   "metadata": {},
   "source": [
    "# Prepare Dataset"
   ]
  },
  {
   "attachments": {},
   "cell_type": "markdown",
   "metadata": {},
   "source": [
    "## ADE20K"
   ]
  },
  {
   "cell_type": "code",
   "execution_count": 2,
   "metadata": {},
   "outputs": [
    {
     "name": "stdout",
     "output_type": "stream",
     "text": [
      "making dataset dir\n",
      "finished\n"
     ]
    }
   ],
   "source": [
    "print(\"making dataset dir\")\n",
    "ensure_path(Args.DIR_DATASET)\n",
    "print(\"finished\")"
   ]
  },
  {
   "cell_type": "code",
   "execution_count": 3,
   "metadata": {},
   "outputs": [
    {
     "name": "stdout",
     "output_type": "stream",
     "text": [
      "downloading ADE20K dataset\n",
      "finished\n",
      "uncompressing ADE20K\n",
      "finished\n"
     ]
    }
   ],
   "source": [
    "print(\"downloading ADE20K dataset\")\n",
    "download_file(Args.URL_ADE20K, Args.DIR_DATASET)\n",
    "print(\"finished\")\n",
    "\n",
    "print(\"uncompressing ADE20K\")\n",
    "DIR_ADE20K = \"DataSet/ADEChallengeData2016\"\n",
    "if not os.path.exists(DIR_ADE20K):\n",
    "    !unzip -q DataSet/ADEChallengeData2016.zip -d DataSet\n",
    "print(\"finished\")"
   ]
  },
  {
   "attachments": {},
   "cell_type": "markdown",
   "metadata": {},
   "source": [
    "## Places365"
   ]
  },
  {
   "cell_type": "code",
   "execution_count": 4,
   "metadata": {},
   "outputs": [
    {
     "name": "stdout",
     "output_type": "stream",
     "text": [
      "downloading labels for palces365\n",
      "finished\n"
     ]
    }
   ],
   "source": [
    "print(\"downloading labels for palces365\")\n",
    "download_file(Args.URL_PLACES_LABEL, Args.DIR_DATASET)\n",
    "print(\"finished\")"
   ]
  },
  {
   "attachments": {},
   "cell_type": "markdown",
   "metadata": {},
   "source": [
    "# Prepare Model"
   ]
  },
  {
   "cell_type": "code",
   "execution_count": 5,
   "metadata": {},
   "outputs": [
    {
     "name": "stdout",
     "output_type": "stream",
     "text": [
      "making model dir\n",
      "finished\n"
     ]
    }
   ],
   "source": [
    "print(\"making model dir\")\n",
    "ensure_path(Args.DIR_MODEL)\n",
    "print(\"finished\")"
   ]
  },
  {
   "cell_type": "code",
   "execution_count": 6,
   "metadata": {},
   "outputs": [
    {
     "name": "stdout",
     "output_type": "stream",
     "text": [
      "downloading xception model\n",
      "finished\n"
     ]
    }
   ],
   "source": [
    "print(\"downloading xception model\")\n",
    "download_file(Args.URL_XCEPTION_ADE, Args.DIR_MODEL)\n",
    "print(\"finished\")"
   ]
  },
  {
   "cell_type": "code",
   "execution_count": 7,
   "metadata": {},
   "outputs": [
    {
     "name": "stdout",
     "output_type": "stream",
     "text": [
      "downloading resnet model\n",
      "finished\n"
     ]
    }
   ],
   "source": [
    "print(\"downloading resnet model\")\n",
    "download_file(Args.URL_RESNET_PLACES, Args.DIR_MODEL)\n",
    "print(\"finished\")"
   ]
  }
 ],
 "metadata": {
  "kernelspec": {
   "display_name": "Python 3",
   "language": "python",
   "name": "python3"
  },
  "language_info": {
   "codemirror_mode": {
    "name": "ipython",
    "version": 3
   },
   "file_extension": ".py",
   "mimetype": "text/x-python",
   "name": "python",
   "nbconvert_exporter": "python",
   "pygments_lexer": "ipython3",
   "version": "3.8.16"
  },
  "orig_nbformat": 4
 },
 "nbformat": 4,
 "nbformat_minor": 2
}
